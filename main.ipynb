{
 "cells": [
  {
   "cell_type": "code",
   "execution_count": 125,
   "metadata": {},
   "outputs": [],
   "source": [
    "import numpy as np\n",
    "import pandas as pd\n",
    "import matplotlib.pyplot as plt\n",
    "import seaborn as sns \n",
    "%matplotlib inline"
   ]
  },
  {
   "cell_type": "code",
   "execution_count": 126,
   "metadata": {},
   "outputs": [],
   "source": [
    "dataset=pd.read_csv(\"Swarm_Behaviour.csv\")"
   ]
  },
  {
   "cell_type": "code",
   "execution_count": 127,
   "metadata": {},
   "outputs": [
    {
     "data": {
      "text/plain": [
       "(23309, 2401)"
      ]
     },
     "execution_count": 127,
     "metadata": {},
     "output_type": "execute_result"
    }
   ],
   "source": [
    "dataset.shape"
   ]
  },
  {
   "cell_type": "code",
   "execution_count": 128,
   "metadata": {},
   "outputs": [
    {
     "data": {
      "text/html": [
       "<div>\n",
       "<style scoped>\n",
       "    .dataframe tbody tr th:only-of-type {\n",
       "        vertical-align: middle;\n",
       "    }\n",
       "\n",
       "    .dataframe tbody tr th {\n",
       "        vertical-align: top;\n",
       "    }\n",
       "\n",
       "    .dataframe thead th {\n",
       "        text-align: right;\n",
       "    }\n",
       "</style>\n",
       "<table border=\"1\" class=\"dataframe\">\n",
       "  <thead>\n",
       "    <tr style=\"text-align: right;\">\n",
       "      <th></th>\n",
       "      <th>x1</th>\n",
       "      <th>y1</th>\n",
       "      <th>xVel1</th>\n",
       "      <th>yVel1</th>\n",
       "      <th>xA1</th>\n",
       "      <th>yA1</th>\n",
       "      <th>xS1</th>\n",
       "      <th>yS1</th>\n",
       "      <th>xC1</th>\n",
       "      <th>yC1</th>\n",
       "      <th>...</th>\n",
       "      <th>yVel200</th>\n",
       "      <th>xA200</th>\n",
       "      <th>yA200</th>\n",
       "      <th>xS200</th>\n",
       "      <th>yS200</th>\n",
       "      <th>xC200</th>\n",
       "      <th>yC200</th>\n",
       "      <th>nAC200</th>\n",
       "      <th>nS200</th>\n",
       "      <th>Swarm_Behaviour</th>\n",
       "    </tr>\n",
       "  </thead>\n",
       "  <tbody>\n",
       "    <tr>\n",
       "      <th>0</th>\n",
       "      <td>562.05</td>\n",
       "      <td>-0.62</td>\n",
       "      <td>-10.70</td>\n",
       "      <td>-4.33</td>\n",
       "      <td>0.00</td>\n",
       "      <td>0.00</td>\n",
       "      <td>0.0</td>\n",
       "      <td>0.0</td>\n",
       "      <td>0.00</td>\n",
       "      <td>0.00</td>\n",
       "      <td>...</td>\n",
       "      <td>-15.15</td>\n",
       "      <td>0.00</td>\n",
       "      <td>0.00</td>\n",
       "      <td>0.00</td>\n",
       "      <td>0.00</td>\n",
       "      <td>0.00</td>\n",
       "      <td>0.00</td>\n",
       "      <td>28</td>\n",
       "      <td>0</td>\n",
       "      <td>0.0</td>\n",
       "    </tr>\n",
       "    <tr>\n",
       "      <th>1</th>\n",
       "      <td>175.66</td>\n",
       "      <td>-57.09</td>\n",
       "      <td>2.31</td>\n",
       "      <td>-2.67</td>\n",
       "      <td>0.00</td>\n",
       "      <td>0.00</td>\n",
       "      <td>0.0</td>\n",
       "      <td>0.0</td>\n",
       "      <td>0.00</td>\n",
       "      <td>0.00</td>\n",
       "      <td>...</td>\n",
       "      <td>-3.48</td>\n",
       "      <td>0.00</td>\n",
       "      <td>0.00</td>\n",
       "      <td>0.00</td>\n",
       "      <td>0.00</td>\n",
       "      <td>0.00</td>\n",
       "      <td>0.00</td>\n",
       "      <td>4</td>\n",
       "      <td>0</td>\n",
       "      <td>0.0</td>\n",
       "    </tr>\n",
       "    <tr>\n",
       "      <th>2</th>\n",
       "      <td>200.16</td>\n",
       "      <td>-320.07</td>\n",
       "      <td>4.01</td>\n",
       "      <td>-6.37</td>\n",
       "      <td>0.00</td>\n",
       "      <td>0.00</td>\n",
       "      <td>0.0</td>\n",
       "      <td>0.0</td>\n",
       "      <td>0.18</td>\n",
       "      <td>-0.26</td>\n",
       "      <td>...</td>\n",
       "      <td>-9.38</td>\n",
       "      <td>0.00</td>\n",
       "      <td>0.00</td>\n",
       "      <td>0.00</td>\n",
       "      <td>0.00</td>\n",
       "      <td>-0.11</td>\n",
       "      <td>-0.30</td>\n",
       "      <td>15</td>\n",
       "      <td>1</td>\n",
       "      <td>0.0</td>\n",
       "    </tr>\n",
       "    <tr>\n",
       "      <th>3</th>\n",
       "      <td>316.99</td>\n",
       "      <td>-906.84</td>\n",
       "      <td>0.85</td>\n",
       "      <td>9.17</td>\n",
       "      <td>-0.17</td>\n",
       "      <td>1.03</td>\n",
       "      <td>0.0</td>\n",
       "      <td>0.0</td>\n",
       "      <td>0.00</td>\n",
       "      <td>0.00</td>\n",
       "      <td>...</td>\n",
       "      <td>10.39</td>\n",
       "      <td>-0.26</td>\n",
       "      <td>1.01</td>\n",
       "      <td>0.00</td>\n",
       "      <td>0.00</td>\n",
       "      <td>0.00</td>\n",
       "      <td>0.00</td>\n",
       "      <td>16</td>\n",
       "      <td>0</td>\n",
       "      <td>0.0</td>\n",
       "    </tr>\n",
       "    <tr>\n",
       "      <th>4</th>\n",
       "      <td>1277.68</td>\n",
       "      <td>908.54</td>\n",
       "      <td>-2.02</td>\n",
       "      <td>8.23</td>\n",
       "      <td>-1.00</td>\n",
       "      <td>1.00</td>\n",
       "      <td>0.0</td>\n",
       "      <td>0.0</td>\n",
       "      <td>0.00</td>\n",
       "      <td>0.00</td>\n",
       "      <td>...</td>\n",
       "      <td>13.91</td>\n",
       "      <td>-1.00</td>\n",
       "      <td>0.00</td>\n",
       "      <td>3.21</td>\n",
       "      <td>15.67</td>\n",
       "      <td>0.00</td>\n",
       "      <td>0.00</td>\n",
       "      <td>12</td>\n",
       "      <td>0</td>\n",
       "      <td>0.0</td>\n",
       "    </tr>\n",
       "    <tr>\n",
       "      <th>...</th>\n",
       "      <td>...</td>\n",
       "      <td>...</td>\n",
       "      <td>...</td>\n",
       "      <td>...</td>\n",
       "      <td>...</td>\n",
       "      <td>...</td>\n",
       "      <td>...</td>\n",
       "      <td>...</td>\n",
       "      <td>...</td>\n",
       "      <td>...</td>\n",
       "      <td>...</td>\n",
       "      <td>...</td>\n",
       "      <td>...</td>\n",
       "      <td>...</td>\n",
       "      <td>...</td>\n",
       "      <td>...</td>\n",
       "      <td>...</td>\n",
       "      <td>...</td>\n",
       "      <td>...</td>\n",
       "      <td>...</td>\n",
       "      <td>...</td>\n",
       "    </tr>\n",
       "    <tr>\n",
       "      <th>23304</th>\n",
       "      <td>-225.85</td>\n",
       "      <td>128.99</td>\n",
       "      <td>12.19</td>\n",
       "      <td>-7.56</td>\n",
       "      <td>-1.00</td>\n",
       "      <td>0.00</td>\n",
       "      <td>0.0</td>\n",
       "      <td>0.0</td>\n",
       "      <td>0.00</td>\n",
       "      <td>0.00</td>\n",
       "      <td>...</td>\n",
       "      <td>-5.06</td>\n",
       "      <td>-1.00</td>\n",
       "      <td>-1.00</td>\n",
       "      <td>-3.99</td>\n",
       "      <td>0.21</td>\n",
       "      <td>0.00</td>\n",
       "      <td>0.00</td>\n",
       "      <td>17</td>\n",
       "      <td>1</td>\n",
       "      <td>0.0</td>\n",
       "    </tr>\n",
       "    <tr>\n",
       "      <th>23305</th>\n",
       "      <td>-1352.02</td>\n",
       "      <td>-233.03</td>\n",
       "      <td>-0.86</td>\n",
       "      <td>-4.37</td>\n",
       "      <td>-0.07</td>\n",
       "      <td>-0.55</td>\n",
       "      <td>0.0</td>\n",
       "      <td>0.0</td>\n",
       "      <td>0.28</td>\n",
       "      <td>0.02</td>\n",
       "      <td>...</td>\n",
       "      <td>-12.41</td>\n",
       "      <td>-0.15</td>\n",
       "      <td>-0.70</td>\n",
       "      <td>0.00</td>\n",
       "      <td>0.00</td>\n",
       "      <td>0.02</td>\n",
       "      <td>0.07</td>\n",
       "      <td>69</td>\n",
       "      <td>1</td>\n",
       "      <td>0.0</td>\n",
       "    </tr>\n",
       "    <tr>\n",
       "      <th>23306</th>\n",
       "      <td>-1360.61</td>\n",
       "      <td>-778.11</td>\n",
       "      <td>-2.89</td>\n",
       "      <td>-1.17</td>\n",
       "      <td>0.00</td>\n",
       "      <td>0.00</td>\n",
       "      <td>0.0</td>\n",
       "      <td>0.0</td>\n",
       "      <td>0.00</td>\n",
       "      <td>0.00</td>\n",
       "      <td>...</td>\n",
       "      <td>-14.78</td>\n",
       "      <td>0.00</td>\n",
       "      <td>0.00</td>\n",
       "      <td>0.00</td>\n",
       "      <td>0.00</td>\n",
       "      <td>0.00</td>\n",
       "      <td>0.00</td>\n",
       "      <td>20</td>\n",
       "      <td>1</td>\n",
       "      <td>0.0</td>\n",
       "    </tr>\n",
       "    <tr>\n",
       "      <th>23307</th>\n",
       "      <td>987.11</td>\n",
       "      <td>615.69</td>\n",
       "      <td>-5.61</td>\n",
       "      <td>-2.92</td>\n",
       "      <td>-1.00</td>\n",
       "      <td>-1.00</td>\n",
       "      <td>0.0</td>\n",
       "      <td>0.0</td>\n",
       "      <td>0.00</td>\n",
       "      <td>0.00</td>\n",
       "      <td>...</td>\n",
       "      <td>9.78</td>\n",
       "      <td>-1.00</td>\n",
       "      <td>-1.00</td>\n",
       "      <td>0.00</td>\n",
       "      <td>0.00</td>\n",
       "      <td>0.00</td>\n",
       "      <td>0.00</td>\n",
       "      <td>29</td>\n",
       "      <td>0</td>\n",
       "      <td>0.0</td>\n",
       "    </tr>\n",
       "    <tr>\n",
       "      <th>23308</th>\n",
       "      <td>938.12</td>\n",
       "      <td>-924.87</td>\n",
       "      <td>11.18</td>\n",
       "      <td>2.85</td>\n",
       "      <td>0.10</td>\n",
       "      <td>-0.02</td>\n",
       "      <td>0.0</td>\n",
       "      <td>0.0</td>\n",
       "      <td>0.06</td>\n",
       "      <td>0.31</td>\n",
       "      <td>...</td>\n",
       "      <td>-2.90</td>\n",
       "      <td>-0.13</td>\n",
       "      <td>-0.29</td>\n",
       "      <td>1.31</td>\n",
       "      <td>0.38</td>\n",
       "      <td>0.00</td>\n",
       "      <td>0.00</td>\n",
       "      <td>2</td>\n",
       "      <td>1</td>\n",
       "      <td>0.0</td>\n",
       "    </tr>\n",
       "  </tbody>\n",
       "</table>\n",
       "<p>23309 rows × 2401 columns</p>\n",
       "</div>"
      ],
      "text/plain": [
       "            x1      y1  xVel1  yVel1   xA1   yA1  xS1  yS1   xC1   yC1  ...  \\\n",
       "0       562.05   -0.62 -10.70  -4.33  0.00  0.00  0.0  0.0  0.00  0.00  ...   \n",
       "1       175.66  -57.09   2.31  -2.67  0.00  0.00  0.0  0.0  0.00  0.00  ...   \n",
       "2       200.16 -320.07   4.01  -6.37  0.00  0.00  0.0  0.0  0.18 -0.26  ...   \n",
       "3       316.99 -906.84   0.85   9.17 -0.17  1.03  0.0  0.0  0.00  0.00  ...   \n",
       "4      1277.68  908.54  -2.02   8.23 -1.00  1.00  0.0  0.0  0.00  0.00  ...   \n",
       "...        ...     ...    ...    ...   ...   ...  ...  ...   ...   ...  ...   \n",
       "23304  -225.85  128.99  12.19  -7.56 -1.00  0.00  0.0  0.0  0.00  0.00  ...   \n",
       "23305 -1352.02 -233.03  -0.86  -4.37 -0.07 -0.55  0.0  0.0  0.28  0.02  ...   \n",
       "23306 -1360.61 -778.11  -2.89  -1.17  0.00  0.00  0.0  0.0  0.00  0.00  ...   \n",
       "23307   987.11  615.69  -5.61  -2.92 -1.00 -1.00  0.0  0.0  0.00  0.00  ...   \n",
       "23308   938.12 -924.87  11.18   2.85  0.10 -0.02  0.0  0.0  0.06  0.31  ...   \n",
       "\n",
       "       yVel200  xA200  yA200  xS200  yS200  xC200  yC200  nAC200  nS200  \\\n",
       "0       -15.15   0.00   0.00   0.00   0.00   0.00   0.00      28      0   \n",
       "1        -3.48   0.00   0.00   0.00   0.00   0.00   0.00       4      0   \n",
       "2        -9.38   0.00   0.00   0.00   0.00  -0.11  -0.30      15      1   \n",
       "3        10.39  -0.26   1.01   0.00   0.00   0.00   0.00      16      0   \n",
       "4        13.91  -1.00   0.00   3.21  15.67   0.00   0.00      12      0   \n",
       "...        ...    ...    ...    ...    ...    ...    ...     ...    ...   \n",
       "23304    -5.06  -1.00  -1.00  -3.99   0.21   0.00   0.00      17      1   \n",
       "23305   -12.41  -0.15  -0.70   0.00   0.00   0.02   0.07      69      1   \n",
       "23306   -14.78   0.00   0.00   0.00   0.00   0.00   0.00      20      1   \n",
       "23307     9.78  -1.00  -1.00   0.00   0.00   0.00   0.00      29      0   \n",
       "23308    -2.90  -0.13  -0.29   1.31   0.38   0.00   0.00       2      1   \n",
       "\n",
       "       Swarm_Behaviour  \n",
       "0                  0.0  \n",
       "1                  0.0  \n",
       "2                  0.0  \n",
       "3                  0.0  \n",
       "4                  0.0  \n",
       "...                ...  \n",
       "23304              0.0  \n",
       "23305              0.0  \n",
       "23306              0.0  \n",
       "23307              0.0  \n",
       "23308              0.0  \n",
       "\n",
       "[23309 rows x 2401 columns]"
      ]
     },
     "execution_count": 128,
     "metadata": {},
     "output_type": "execute_result"
    }
   ],
   "source": [
    "dataset"
   ]
  },
  {
   "cell_type": "code",
   "execution_count": 129,
   "metadata": {},
   "outputs": [],
   "source": [
    "# df=dataset.corr()['Swarm_Behaviour'].to_frame()"
   ]
  },
  {
   "cell_type": "code",
   "execution_count": null,
   "metadata": {},
   "outputs": [],
   "source": []
  },
  {
   "cell_type": "code",
   "execution_count": 130,
   "metadata": {},
   "outputs": [
    {
     "data": {
      "text/plain": [
       "['yVel3',\n",
       " 'xVel5',\n",
       " 'xVel7',\n",
       " 'yVel11',\n",
       " 'yVel19',\n",
       " 'yVel21',\n",
       " 'yVel27',\n",
       " 'yVel30',\n",
       " 'yVel40',\n",
       " 'yVel41',\n",
       " 'xVel43',\n",
       " 'yVel44',\n",
       " 'yVel54',\n",
       " 'yVel56',\n",
       " 'xVel62',\n",
       " 'yVel69',\n",
       " 'yVel74',\n",
       " 'yVel84',\n",
       " 'yVel85',\n",
       " 'yVel88',\n",
       " 'yVel95',\n",
       " 'yVel98',\n",
       " 'xVel103',\n",
       " 'yVel104',\n",
       " 'yVel106',\n",
       " 'yVel107',\n",
       " 'yVel109',\n",
       " 'yVel119',\n",
       " 'yVel120',\n",
       " 'yVel126',\n",
       " 'yVel131',\n",
       " 'xVel141',\n",
       " 'yVel141',\n",
       " 'yVel142',\n",
       " 'yVel148',\n",
       " 'yVel152',\n",
       " 'yVel162',\n",
       " 'yVel170',\n",
       " 'yVel172',\n",
       " 'yVel176',\n",
       " 'yVel177',\n",
       " 'xVel179',\n",
       " 'yVel181',\n",
       " 'xVel185',\n",
       " 'yVel189',\n",
       " 'yVel196',\n",
       " 'xVel197',\n",
       " 'Swarm_Behaviour']"
      ]
     },
     "execution_count": 130,
     "metadata": {},
     "output_type": "execute_result"
    }
   ],
   "source": [
    "pd.options.display.max_rows=10\n",
    "SelectedFeatures=[i for i in dataset.columns if (dataset[i].corr(dataset['Swarm_Behaviour'])>0.4 or dataset[i].corr(dataset['Swarm_Behaviour'])<-0.4)]\n",
    "SelectedFeatures"
   ]
  },
  {
   "cell_type": "code",
   "execution_count": 131,
   "metadata": {},
   "outputs": [
    {
     "data": {
      "text/plain": [
       "47"
      ]
     },
     "execution_count": 131,
     "metadata": {},
     "output_type": "execute_result"
    }
   ],
   "source": [
    "SelectedFeatures.remove('Swarm_Behaviour')\n",
    "len(SelectedFeatures)"
   ]
  },
  {
   "cell_type": "markdown",
   "metadata": {},
   "source": [
    "<h2>Missing Values</h2>"
   ]
  },
  {
   "cell_type": "code",
   "execution_count": 132,
   "metadata": {},
   "outputs": [
    {
     "name": "stdout",
     "output_type": "stream",
     "text": [
      "Exit\n"
     ]
    }
   ],
   "source": [
    "for i in dataset.columns:\n",
    "    if dataset[i].isnull().sum()>0:\n",
    "        print(i)\n",
    "else:\n",
    "    print(\"Exit\")"
   ]
  },
  {
   "cell_type": "markdown",
   "metadata": {},
   "source": [
    "<p>No missing values found</p>"
   ]
  },
  {
   "cell_type": "code",
   "execution_count": 133,
   "metadata": {},
   "outputs": [
    {
     "name": "stdout",
     "output_type": "stream",
     "text": [
      "2401\n"
     ]
    }
   ],
   "source": [
    "j=0\n",
    "for i in dataset.columns:\n",
    "    if dataset[i].dtype!='O':\n",
    "        j+=1\n",
    "print(j)"
   ]
  },
  {
   "cell_type": "markdown",
   "metadata": {},
   "source": [
    "<p>All features are Numerical</p>"
   ]
  },
  {
   "cell_type": "markdown",
   "metadata": {},
   "source": [
    "<h2>Scaling The Data</h2>"
   ]
  },
  {
   "cell_type": "code",
   "execution_count": 135,
   "metadata": {},
   "outputs": [],
   "source": [
    "from sklearn.model_selection import train_test_split\n"
   ]
  },
  {
   "cell_type": "code",
   "execution_count": 136,
   "metadata": {},
   "outputs": [],
   "source": [
    "TrainX,TestX,TrainY,TestY=train_test_split(dataset[SelectedFeatures],dataset['Swarm_Behaviour'],train_size=0.8,random_state=101)\n"
   ]
  },
  {
   "cell_type": "code",
   "execution_count": 137,
   "metadata": {},
   "outputs": [
    {
     "data": {
      "text/plain": [
       "LogisticRegression()"
      ]
     },
     "execution_count": 137,
     "metadata": {},
     "output_type": "execute_result"
    }
   ],
   "source": [
    "from sklearn.linear_model import LogisticRegression\n",
    "model=LogisticRegression()\n",
    "model.fit(TrainX,TrainY)"
   ]
  },
  {
   "cell_type": "code",
   "execution_count": 138,
   "metadata": {},
   "outputs": [
    {
     "data": {
      "text/plain": [
       "array([0., 1., 0., ..., 0., 1., 0.])"
      ]
     },
     "execution_count": 138,
     "metadata": {},
     "output_type": "execute_result"
    }
   ],
   "source": [
    "PredictedBehaviour=model.predict(TestX)\n",
    "PredictedBehaviour"
   ]
  },
  {
   "cell_type": "code",
   "execution_count": 139,
   "metadata": {},
   "outputs": [
    {
     "data": {
      "text/plain": [
       "0.9011154011154011"
      ]
     },
     "execution_count": 139,
     "metadata": {},
     "output_type": "execute_result"
    }
   ],
   "source": [
    "from sklearn.metrics import accuracy_score\n",
    "accuracy_score(TestY,PredictedBehaviour)"
   ]
  },
  {
   "cell_type": "markdown",
   "metadata": {},
   "source": [
    "<h2>Trying it by increasing 1 feature at a time with correlation</h2>"
   ]
  },
  {
   "cell_type": "code",
   "execution_count": 140,
   "metadata": {},
   "outputs": [],
   "source": [
    "df=dataset.corr()['Swarm_Behaviour'].to_frame()"
   ]
  },
  {
   "cell_type": "code",
   "execution_count": 141,
   "metadata": {},
   "outputs": [],
   "source": [
    "backup=df.copy()"
   ]
  },
  {
   "cell_type": "code",
   "execution_count": 142,
   "metadata": {},
   "outputs": [
    {
     "data": {
      "text/html": [
       "<div>\n",
       "<style scoped>\n",
       "    .dataframe tbody tr th:only-of-type {\n",
       "        vertical-align: middle;\n",
       "    }\n",
       "\n",
       "    .dataframe tbody tr th {\n",
       "        vertical-align: top;\n",
       "    }\n",
       "\n",
       "    .dataframe thead th {\n",
       "        text-align: right;\n",
       "    }\n",
       "</style>\n",
       "<table border=\"1\" class=\"dataframe\">\n",
       "  <thead>\n",
       "    <tr style=\"text-align: right;\">\n",
       "      <th></th>\n",
       "      <th>Features</th>\n",
       "      <th>Swarm_Behaviour</th>\n",
       "    </tr>\n",
       "  </thead>\n",
       "  <tbody>\n",
       "    <tr>\n",
       "      <th>Swarm_Behaviour</th>\n",
       "      <td>Swarm_Behaviour</td>\n",
       "      <td>1.000000</td>\n",
       "    </tr>\n",
       "    <tr>\n",
       "      <th>x1</th>\n",
       "      <td>x1</td>\n",
       "      <td>0.058640</td>\n",
       "    </tr>\n",
       "    <tr>\n",
       "      <th>y1</th>\n",
       "      <td>y1</td>\n",
       "      <td>-0.048443</td>\n",
       "    </tr>\n",
       "    <tr>\n",
       "      <th>xVel1</th>\n",
       "      <td>xVel1</td>\n",
       "      <td>-0.256886</td>\n",
       "    </tr>\n",
       "    <tr>\n",
       "      <th>yVel1</th>\n",
       "      <td>yVel1</td>\n",
       "      <td>0.325989</td>\n",
       "    </tr>\n",
       "    <tr>\n",
       "      <th>...</th>\n",
       "      <td>...</td>\n",
       "      <td>...</td>\n",
       "    </tr>\n",
       "    <tr>\n",
       "      <th>yS200</th>\n",
       "      <td>yS200</td>\n",
       "      <td>0.009656</td>\n",
       "    </tr>\n",
       "    <tr>\n",
       "      <th>xC200</th>\n",
       "      <td>xC200</td>\n",
       "      <td>-0.048677</td>\n",
       "    </tr>\n",
       "    <tr>\n",
       "      <th>yC200</th>\n",
       "      <td>yC200</td>\n",
       "      <td>0.216145</td>\n",
       "    </tr>\n",
       "    <tr>\n",
       "      <th>nAC200</th>\n",
       "      <td>nAC200</td>\n",
       "      <td>-0.017760</td>\n",
       "    </tr>\n",
       "    <tr>\n",
       "      <th>nS200</th>\n",
       "      <td>nS200</td>\n",
       "      <td>0.106799</td>\n",
       "    </tr>\n",
       "  </tbody>\n",
       "</table>\n",
       "<p>2401 rows × 2 columns</p>\n",
       "</div>"
      ],
      "text/plain": [
       "                        Features  Swarm_Behaviour\n",
       "Swarm_Behaviour  Swarm_Behaviour         1.000000\n",
       "x1                            x1         0.058640\n",
       "y1                            y1        -0.048443\n",
       "xVel1                      xVel1        -0.256886\n",
       "yVel1                      yVel1         0.325989\n",
       "...                          ...              ...\n",
       "yS200                      yS200         0.009656\n",
       "xC200                      xC200        -0.048677\n",
       "yC200                      yC200         0.216145\n",
       "nAC200                    nAC200        -0.017760\n",
       "nS200                      nS200         0.106799\n",
       "\n",
       "[2401 rows x 2 columns]"
      ]
     },
     "execution_count": 142,
     "metadata": {},
     "output_type": "execute_result"
    }
   ],
   "source": [
    "arr=df.index\n",
    "df.insert(0,\"Features\",arr,True)\n",
    "# df.drop(\"Features\",axis=1,inplace=True)\n",
    "df"
   ]
  },
  {
   "cell_type": "code",
   "execution_count": 143,
   "metadata": {},
   "outputs": [],
   "source": [
    "CorrVal=df['Swarm_Behaviour']\n",
    "CorrVal=CorrVal.abs()"
   ]
  },
  {
   "cell_type": "code",
   "execution_count": 144,
   "metadata": {},
   "outputs": [],
   "source": [
    "# CorrVal=pd.Series(CorrVal)\n",
    "df.insert(1,\"CorrVal\",CorrVal)"
   ]
  },
  {
   "cell_type": "code",
   "execution_count": 145,
   "metadata": {},
   "outputs": [
    {
     "data": {
      "text/html": [
       "<div>\n",
       "<style scoped>\n",
       "    .dataframe tbody tr th:only-of-type {\n",
       "        vertical-align: middle;\n",
       "    }\n",
       "\n",
       "    .dataframe tbody tr th {\n",
       "        vertical-align: top;\n",
       "    }\n",
       "\n",
       "    .dataframe thead th {\n",
       "        text-align: right;\n",
       "    }\n",
       "</style>\n",
       "<table border=\"1\" class=\"dataframe\">\n",
       "  <thead>\n",
       "    <tr style=\"text-align: right;\">\n",
       "      <th></th>\n",
       "      <th>Features</th>\n",
       "      <th>CorrVal</th>\n",
       "    </tr>\n",
       "  </thead>\n",
       "  <tbody>\n",
       "    <tr>\n",
       "      <th>Swarm_Behaviour</th>\n",
       "      <td>Swarm_Behaviour</td>\n",
       "      <td>1.000000</td>\n",
       "    </tr>\n",
       "    <tr>\n",
       "      <th>x1</th>\n",
       "      <td>x1</td>\n",
       "      <td>0.058640</td>\n",
       "    </tr>\n",
       "    <tr>\n",
       "      <th>y1</th>\n",
       "      <td>y1</td>\n",
       "      <td>0.048443</td>\n",
       "    </tr>\n",
       "    <tr>\n",
       "      <th>xVel1</th>\n",
       "      <td>xVel1</td>\n",
       "      <td>0.256886</td>\n",
       "    </tr>\n",
       "    <tr>\n",
       "      <th>yVel1</th>\n",
       "      <td>yVel1</td>\n",
       "      <td>0.325989</td>\n",
       "    </tr>\n",
       "    <tr>\n",
       "      <th>...</th>\n",
       "      <td>...</td>\n",
       "      <td>...</td>\n",
       "    </tr>\n",
       "    <tr>\n",
       "      <th>yS200</th>\n",
       "      <td>yS200</td>\n",
       "      <td>0.009656</td>\n",
       "    </tr>\n",
       "    <tr>\n",
       "      <th>xC200</th>\n",
       "      <td>xC200</td>\n",
       "      <td>0.048677</td>\n",
       "    </tr>\n",
       "    <tr>\n",
       "      <th>yC200</th>\n",
       "      <td>yC200</td>\n",
       "      <td>0.216145</td>\n",
       "    </tr>\n",
       "    <tr>\n",
       "      <th>nAC200</th>\n",
       "      <td>nAC200</td>\n",
       "      <td>0.017760</td>\n",
       "    </tr>\n",
       "    <tr>\n",
       "      <th>nS200</th>\n",
       "      <td>nS200</td>\n",
       "      <td>0.106799</td>\n",
       "    </tr>\n",
       "  </tbody>\n",
       "</table>\n",
       "<p>2401 rows × 2 columns</p>\n",
       "</div>"
      ],
      "text/plain": [
       "                        Features   CorrVal\n",
       "Swarm_Behaviour  Swarm_Behaviour  1.000000\n",
       "x1                            x1  0.058640\n",
       "y1                            y1  0.048443\n",
       "xVel1                      xVel1  0.256886\n",
       "yVel1                      yVel1  0.325989\n",
       "...                          ...       ...\n",
       "yS200                      yS200  0.009656\n",
       "xC200                      xC200  0.048677\n",
       "yC200                      yC200  0.216145\n",
       "nAC200                    nAC200  0.017760\n",
       "nS200                      nS200  0.106799\n",
       "\n",
       "[2401 rows x 2 columns]"
      ]
     },
     "execution_count": 145,
     "metadata": {},
     "output_type": "execute_result"
    }
   ],
   "source": [
    "df.drop(\"Swarm_Behaviour\",axis=1,inplace=True)\n",
    "df"
   ]
  },
  {
   "cell_type": "code",
   "execution_count": 146,
   "metadata": {},
   "outputs": [],
   "source": [
    "df.sort_values(\"CorrVal\",inplace=True,ascending=False)\n",
    "backup=df.copy()\n",
    "df.drop(\"Swarm_Behaviour\",axis=0,inplace=True)"
   ]
  },
  {
   "cell_type": "code",
   "execution_count": 147,
   "metadata": {},
   "outputs": [],
   "source": [
    "# 'yVel15' in TrainX.columns\n",
    "TrainX,TestX,TrainY,TestY=train_test_split(dataset,dataset['Swarm_Behaviour'],train_size=0.8,random_state=101)"
   ]
  },
  {
   "cell_type": "code",
   "execution_count": 175,
   "metadata": {},
   "outputs": [
    {
     "name": "stdout",
     "output_type": "stream",
     "text": [
      "0.9021879021879022\n",
      "54\n"
     ]
    }
   ],
   "source": [
    "\n",
    "Lr=LogisticRegression(max_iter=300)\n",
    "# starting with 20 features as when I started with 1 features accuracy started with 72 then went 75 and then for many \n",
    "# iterations didn't improved\n",
    "start=20\n",
    "BestPred,iteration,NumOfFeatures=0,0,0\n",
    "for i in range(120):\n",
    "    SelectedFeatures2=[df['Features'][k] for k in range(start)]\n",
    "    Lr.fit(TrainX[SelectedFeatures2],TrainY)\n",
    "    if BestPred<Lr.score(TestX[SelectedFeatures2],TestY):\n",
    "        BestPred=Lr.score(TestX[SelectedFeatures2],TestY)\n",
    "        NumOfFeatures=start\n",
    "        iteration=0\n",
    "    else:\n",
    "        iteration+=1\n",
    "    if iteration>10:\n",
    "        break\n",
    "    start+=1\n",
    "    \n",
    "print(BestPred)\n",
    "print(NumOfFeatures)"
   ]
  },
  {
   "cell_type": "markdown",
   "metadata": {},
   "source": [
    "<p> I kept iteration to increase to 19 too and found a better accuracy of 90.6 with 107 features</p>"
   ]
  }
 ],
 "metadata": {
  "interpreter": {
   "hash": "1e915f0a29dc84041eaeb02b7b1a21c440e37a87b61d44d5e84a515737dc82bc"
  },
  "kernelspec": {
   "display_name": "Python 3.9.7 ('base')",
   "language": "python",
   "name": "python3"
  },
  "language_info": {
   "codemirror_mode": {
    "name": "ipython",
    "version": 3
   },
   "file_extension": ".py",
   "mimetype": "text/x-python",
   "name": "python",
   "nbconvert_exporter": "python",
   "pygments_lexer": "ipython3",
   "version": "3.9.7"
  },
  "orig_nbformat": 4
 },
 "nbformat": 4,
 "nbformat_minor": 2
}
